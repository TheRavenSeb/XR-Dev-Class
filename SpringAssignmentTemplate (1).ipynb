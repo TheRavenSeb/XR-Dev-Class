{
 "cells": [
  {
   "cell_type": "markdown",
   "id": "1de52a3d",
   "metadata": {},
   "source": [
    "<table style=\"border: 4px solid red; border-collapse: collapse; width: 75%;\">\n",
    "    <tr>\n",
    "        <td style=\"border: 1px solid red; text-align: left; vertical-align: middle; height: 100px;\">\n",
    "            <p><span style=\"font-size: 15pt;\"><ul><li><span style=\"font-size: 18px; color: blue;\">Change the name of this template to the following Structure before you submit it:<ul><li><span style=\"font-size: 15px; color: red;\">Assignment_Number_StudentsName</span></li></ul></span></li></ul></span></p>\n",
    "        </td>\n",
    "    </tr>\n",
    "</table>"
   ]
  },
  {
   "cell_type": "markdown",
   "id": "e60134cb",
   "metadata": {},
   "source": [
    "<table style=\"border: 3px solid red; border-collapse: collapse; width: 75%;\">\n",
    "    <tr>\n",
    "        <td style=\"border: 1px solid red; text-align: left; vertical-align: middle; height: 100px;\">\n",
    "            <p><span style=\"font-size: 15pt;\"><ul><li><span style=\"font-size: 18px; color: blue;\">Insert a markdown cell below and enter the following information: <ul><li><span style=\"font-size: 15px; color: red;\">Name</span></li><li><span style=\"font-size: 15px; color: red;\">Assignment</span></li><li><span style=\"font-size: 15px; color: red;\">Date Submitted</span></li></ul></span></li></ul>\n",
    "</span></p>\n",
    "        </td>\n",
    "    </tr>\n",
    "</table>"
   ]
  },
  {
   "cell_type": "markdown",
   "id": "fcb47228",
   "metadata": {},
   "source": [
    "<table style=\"border: 3px solid red; border-collapse: collapse; width: 75%;\">\n",
    "    <tr>\n",
    "        <td style=\"border: 1px solid red; text-align: left; vertical-align: middle; height: 100px;\">\n",
    "            <p><span style=\"font-size: 15pt;\"><ul><li><span style=\"font-size: 18px; color: blue;\">Each Week you are required to produce a Wiki/Journal. Enter a markdown cell below, make sure it is a markdown cell, and enter the Wiki below. Keep this in mind:<ul><li><span style=\"font-size: 15px; color: red;\">This part of the Assignment is a professional communication, similar to one you might send to your boss on a job; keep it that way.</span></li><li><span style=\"font-size: 15px; color: red;\">It must be a minimum of 350 words; anything shorter will not be graded.</span></li><li><span style=\"font-size: 15px; color: red;\">This should reflect on what worked for you, what didn't, and how you overcame the problems. If you had to research something, mention it, provide the sources, and explain how they helped.</span></li><li><span style=\"font-size: 15px; color: red;\">Never repeat the class assignment in this write-up; we all know what it is. What I want to know is your thoughts and reflections on this Assignment.</span></li></ul></span></li></ul></span></p>\n",
    "        </td>\n",
    "    </tr>\n",
    "</table>"
   ]
  },
  {
   "cell_type": "markdown",
   "id": "a8b96f06",
   "metadata": {},
   "source": [
    "<table style=\"border: 3px solid red; border-collapse: collapse; width: 75%;\">\n",
    "    <tr>\n",
    "        <td style=\"border: 1px solid red; text-align: left; vertical-align: middle; height: 100px;\">\n",
    "            <p><span style=\"font-size: 15pt;\"><ul><li><span style=\"font-size: 18px; color: blue;\">Lab:<br>Insert as many cells as you need below and post your code. Keep this things in mind:<ul><li><span style=\"font-size: 15px; color: red;\">No matter what language you use, if you post it, ensure it runs. </span></li></ul></span></li></ul></span></p>\n",
    "        </td>\n",
    "    </tr>\n",
    "</table>"
   ]
  },
  {
   "cell_type": "markdown",
   "id": "9a4c4a74",
   "metadata": {},
   "source": [
    "<table style=\"border: 3px solid red; border-collapse: collapse; width: 75%;\">\n",
    "    <tr>\n",
    "        <td style=\"border: 1px solid red; text-align: left; vertical-align: middle; height: 100px;\">\n",
    "            <p><span style=\"font-size: 15pt;\"><ul><li><span style=\"font-size: 18px; color: blue;\">Insert a markdown cell below and post the link to the YouTube video made for this Assignment.<br>Keep these things in mind when making your video:<ul><li><span style=\"font-size: 15px; color: red;\">This is a walkthrough of how you tackled the lab assignment and the reasons behind your approach. Keep it casual and conversational. Use this as an opportunity to demonstrate your skills.</span></li><li><span style=\"font-size: 15px; color: red;\">Never read the code line by line; you have already posted your code, and I can read it.</span></li><li><span style=\"font-size: 15px; color: red;\">Keep it short but informative.</span></li><li><span style=\"font-size: 15px; color: red;\">Learn from this experience: after you make a video, watch it. If you are not happy with it, redo it. How you present something like this matters.</span></li><li><span style=\"font-size: 15px; color: red;\">Ensure the IDE's fonts are large enough to prevent the viewer from straining to see what you are posting.</span></li><li><span style=\"font-size: 15px; color: red;\">These videos are presentations that you should be able to show potential employers; therefore, they should be as professional as possible.</span></li><li><span style=\"font-size: 15px; color: red;\">All videos are to be posted on YouTube; you need to provide me with a link and make sure it is not set to private.</span></li></ul></span></li></ul></span></p>\n",
    "        </td>\n",
    "    </tr>\n",
    "</table>"
   ]
  },
  {
   "cell_type": "markdown",
   "id": "d1de96a0",
   "metadata": {},
   "source": [
    "<table style=\"border: 3px solid red; border-collapse: collapse; width: 75%;\">\n",
    "    <tr>\n",
    "        <td style=\"border: 1px solid red; text-align: left; vertical-align: middle; height: 100px;\">\n",
    "            <p><span style=\"font-size: 15pt;\"><ul><li><span style=\"font-size: 18px; color: blue;\">Scrape the Questions from the Assignment, if there are some, and enter them into a cell, then split the cell up so there is one question and its answer with a question number in each cell. Keep these things in mind:<ul><li><span style=\"font-size: 15px; color: red;\">All cells must be of markdown type. </span></li><li><span style=\"font-size: 15px; color: red;\">One word answers do not count. Explain yourself. </span></li></ul></span></li></ul></span></p>\n",
    "        </td>\n",
    "    </tr>\n",
    "</table>"
   ]
  }
 ],
 "metadata": {
  "kernelspec": {
   "display_name": "Python 3 (ipykernel)",
   "language": "python",
   "name": "python3"
  },
  "language_info": {
   "codemirror_mode": {
    "name": "ipython",
    "version": 3
   },
   "file_extension": ".py",
   "mimetype": "text/x-python",
   "name": "python",
   "nbconvert_exporter": "python",
   "pygments_lexer": "ipython3",
   "version": "3.11.7"
  }
 },
 "nbformat": 4,
 "nbformat_minor": 5
}

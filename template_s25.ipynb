{
 "cells": [
  {
   "cell_type": "markdown",
   "id": "3a115e5d-442a-4788-92fe-113618bfdec5",
   "metadata": {},
   "source": [
    "Start every assignment with a markdown cell with:<br>Name <br>Assignment <br>Date submitted"
   ]
  },
  {
   "cell_type": "markdown",
   "id": "033970c9-ca6c-466f-b3d2-94877c05abaa",
   "metadata": {},
   "source": [
    "In this next markdown cell will be the notebook portion, this is where you put your journal. Keep it professional; 350 word min, thoughts and reflections on the assignment only: what worked, what didn't, problems you faced"
   ]
  },
  {
   "cell_type": "markdown",
   "id": "93d6ddeb-c583-4335-b3c5-345317933159",
   "metadata": {},
   "source": [
    "The following lines afterward should be the code for the assignment, as many lines as need be but it has to run."
   ]
  },
  {
   "cell_type": "code",
   "execution_count": 64,
   "id": "667ca2a7-3ed9-48a8-ad0f-e268a7c3f3da",
   "metadata": {},
   "outputs": [
    {
     "name": "stdout",
     "output_type": "stream",
     "text": [
      "Hello World\n"
     ]
    }
   ],
   "source": [
    "print(\"Hello World\")"
   ]
  },
  {
   "cell_type": "code",
   "execution_count": 65,
   "id": "212ac07a-aebe-43db-8144-742df077c982",
   "metadata": {},
   "outputs": [
    {
     "name": "stdout",
     "output_type": "stream",
     "text": [
      "<class 'int'>\n"
     ]
    }
   ],
   "source": [
    "x = 16\n",
    "print(type(x))"
   ]
  },
  {
   "cell_type": "markdown",
   "id": "d3f2f150-8ba0-45e1-94c2-2a54d756a5dd",
   "metadata": {},
   "source": [
    "Next will be the the link to the you-tube video. It should be a walk through video, don't read the code line by line, make it short and informative"
   ]
  },
  {
   "cell_type": "markdown",
   "id": "32af0557-1084-425e-b9e0-4a1065cbc042",
   "metadata": {},
   "source": [
    "Lastly if there are questions in the assignment paste them at the end. Each question + answer will need its own markdown cell. One word answers do not count, make sure to explain yourself."
   ]
  },
  {
   "cell_type": "markdown",
   "id": "b302e273-dce5-4e27-83bb-aa2af0a1de68",
   "metadata": {},
   "source": [
    "Example Question1 <br>\n",
    "Example Answer1"
   ]
  },
  {
   "cell_type": "markdown",
   "id": "337aa0c5-a9ec-435f-9e4c-3348842109d0",
   "metadata": {},
   "source": [
    "Example Question2 <br>\n",
    "Example Answer2"
   ]
  }
 ],
 "metadata": {
  "kernelspec": {
   "display_name": "anaconda-ai-2024.04-py310",
   "language": "python",
   "name": "conda-env-anaconda-ai-2024.04-py310-py"
  },
  "language_info": {
   "codemirror_mode": {
    "name": "ipython",
    "version": 3
   },
   "file_extension": ".py",
   "mimetype": "text/x-python",
   "name": "python",
   "nbconvert_exporter": "python",
   "pygments_lexer": "ipython3",
   "version": "3.10.13"
  }
 },
 "nbformat": 4,
 "nbformat_minor": 5
}

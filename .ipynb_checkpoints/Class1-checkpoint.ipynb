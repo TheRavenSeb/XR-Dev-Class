{
 "cells": [
  {
   "cell_type": "markdown",
   "id": "80b7b740-74da-478e-8342-b061b1ecb80b",
   "metadata": {},
   "source": [
    "# Class 1\n",
    "\n",
    "---"
   ]
  },
  {
   "cell_type": "markdown",
   "id": "328a4c5b-32fb-421f-8371-18fed3a0da04",
   "metadata": {},
   "source": [
    "### What is XR?\n",
    "\n",
    "- Extended Reality\n",
    "- Always Changing\n",
    "- Definition 1: Using tech for modern tools/approaches for solving problems.\n",
    "- Definition 2: A term referring to all combined real and virtual environments and man-machine interactions.\n",
    "\n",
    "---"
   ]
  },
  {
   "cell_type": "markdown",
   "id": "14771164-71c0-43fe-ad66-b86b0adfd33c",
   "metadata": {},
   "source": [
    "### Class Outline\n",
    "\n",
    "| Introduction |\n",
    "| :---: |\n",
    "| Week 1 |\n",
    "\n",
    "| VR/AR/MR |\n",
    "| :---:|\n",
    "| Week 2-3 |\n",
    "\n",
    "| MoCap/Full Body Tracking (FBT) |\n",
    "| :---:|\n",
    "| Week 4-5 |\n",
    "\n",
    "| Computer Aided Design (CAD) | \n",
    "| :---:|\n",
    "| Week 6-7 |\n",
    "\n",
    "| Prosthetics | \n",
    "| :---:|\n",
    "| Week 8-9 |\n",
    "\n",
    "| Human Controlled Robots (HCR) | \n",
    "| :---:|\n",
    "| Week 10-11 |\n",
    "\n",
    "| Brain Computer Interface (BCI) | \n",
    "| :---:|\n",
    "| Week 12-13 |\n",
    "\n",
    "| Artificial Intelligence (AI) | \n",
    "| :---:|\n",
    "| Week 14-15 |\n",
    "\n",
    "| Final Project Due |\n",
    "| :---:|\n",
    "| Week 16 |\n",
    "\n",
    "---"
   ]
  },
  {
   "cell_type": "markdown",
   "id": "27dd0dd7-5b28-4290-b527-82e312236782",
   "metadata": {},
   "source": [
    "### Syllabus\n",
    "\n",
    "Syllabus is found on Canvas\n",
    "\n",
    "---"
   ]
  },
  {
   "cell_type": "markdown",
   "id": "6c6c55b6-0cd4-481b-9441-907a6ed84c26",
   "metadata": {},
   "source": [
    "### Jupyter Notebook\n",
    "\n",
    "- Step 1: [Install Anaconda and Jupyter Notebook](https://www.anaconda.com/download)\n",
    "- Step 2: Download assignment template from Canvas\n",
    "- Step 3: Launch Anaconda Navigator\n",
    "- Step 4: Run Jupyter Notebook\n",
    "\n",
    "---"
   ]
  },
  {
   "cell_type": "markdown",
   "id": "45253773-71ea-4063-a5ed-6e6eacbc1605",
   "metadata": {},
   "source": [
    "### Assignment\n",
    "\n",
    "Discussion Board Prompt: \"Name one technology encompassed by XR that is not VR/AR/MR\"\n",
    "\n",
    "Respond to at least one classmate's post\n",
    "\n",
    "#### Due Before Next Class"
   ]
  }
 ],
 "metadata": {
  "kernelspec": {
   "display_name": "Python 3 (ipykernel)",
   "language": "python",
   "name": "python3"
  },
  "language_info": {
   "codemirror_mode": {
    "name": "ipython",
    "version": 3
   },
   "file_extension": ".py",
   "mimetype": "text/x-python",
   "name": "python",
   "nbconvert_exporter": "python",
   "pygments_lexer": "ipython3",
   "version": "3.11.5"
  }
 },
 "nbformat": 4,
 "nbformat_minor": 5
}
